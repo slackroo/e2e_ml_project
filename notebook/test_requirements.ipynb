{
 "cells": [
  {
   "cell_type": "code",
   "execution_count": 1,
   "outputs": [
    {
     "data": {
      "text/plain": "2"
     },
     "execution_count": 1,
     "metadata": {},
     "output_type": "execute_result"
    }
   ],
   "source": [
    "1+1"
   ],
   "metadata": {
    "collapsed": false,
    "pycharm": {
     "name": "#%%\n"
    }
   }
  },
  {
   "cell_type": "code",
   "execution_count": 12,
   "outputs": [
    {
     "data": {
      "text/plain": "['pandas', 'seaborn', 'numpy', 'scikit-learn', 'matplotlib']"
     },
     "execution_count": 12,
     "metadata": {},
     "output_type": "execute_result"
    }
   ],
   "source": [
    "from typing import List\n",
    "\n",
    "HYPHEN_E_DOT = '-e .'\n",
    "file_path = '../requirements.txt'\n",
    "def get_requirements(file_path: str) -> List[str]:\n",
    "    \"\"\"\n",
    "\n",
    "    :param file_path: give path for installing required files\n",
    "    :return: this function will return a list of requirements\n",
    "    \"\"\"\n",
    "    requirements = []\n",
    "    with open(file_path) as file_obj:\n",
    "        requirements = file_obj.readlines()\n",
    "        requirements = [module.replace(\"\\n\", '') for module in requirements]\n",
    "\n",
    "        if HYPHEN_E_DOT in requirements:\n",
    "            requirements.remove(HYPHEN_E_DOT)\n",
    "\n",
    "        if \"\"  in requirements:\n",
    "            requirements.remove(\"\")\n",
    "\n",
    "    return requirements\n",
    "get_requirements(file_path)"
   ],
   "metadata": {
    "collapsed": false,
    "pycharm": {
     "name": "#%%\n"
    }
   }
  },
  {
   "cell_type": "code",
   "execution_count": 3,
   "outputs": [
    {
     "data": {
      "text/plain": "'/Users/slackroo/Data_science/projects/e2e_ml_project/notebooks'"
     },
     "execution_count": 3,
     "metadata": {},
     "output_type": "execute_result"
    }
   ],
   "source": [
    "pwd"
   ],
   "metadata": {
    "collapsed": false,
    "pycharm": {
     "name": "#%%\n"
    }
   }
  },
  {
   "cell_type": "code",
   "execution_count": null,
   "outputs": [],
   "source": [],
   "metadata": {
    "collapsed": false,
    "pycharm": {
     "name": "#%%\n"
    }
   }
  }
 ],
 "metadata": {
  "kernelspec": {
   "display_name": "Python 3",
   "language": "python",
   "name": "python3"
  },
  "language_info": {
   "codemirror_mode": {
    "name": "ipython",
    "version": 2
   },
   "file_extension": ".py",
   "mimetype": "text/x-python",
   "name": "python",
   "nbconvert_exporter": "python",
   "pygments_lexer": "ipython2",
   "version": "2.7.6"
  }
 },
 "nbformat": 4,
 "nbformat_minor": 0
}