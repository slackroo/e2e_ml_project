{
 "cells": [
  {
   "cell_type": "code",
   "execution_count": 1,
   "outputs": [],
   "source": [
    "import sys\n",
    "import os\n",
    "import pandas as pd\n",
    "\n",
    "from src.exception import CustomException\n",
    "from src.logger import project_root\n",
    "from src.utils import load_object\n",
    "from src.pipeline.predict_pipeline import CustomData, PredictPipeline"
   ],
   "metadata": {
    "collapsed": false,
    "pycharm": {
     "name": "#%%\n"
    }
   }
  },
  {
   "cell_type": "code",
   "execution_count": 7,
   "outputs": [
    {
     "name": "stdout",
     "output_type": "stream",
     "text": [
      "  gender race_ethnicity parental_level_of_education     lunch  \\\n",
      "0   male        group A          associate's degree  standard   \n",
      "\n",
      "  test_preparation_course  writing_score  reading_score  \n",
      "0                    none           33.0           86.0  \n",
      "Before Prediction\n",
      "Mid Prediction\n",
      "before loading\n",
      "after loading\n",
      "[[-2.35184796  1.13786619  0.          1.          1.          0.\n",
      "   0.          0.          0.          1.          0.          0.\n",
      "   0.          0.          0.          0.          1.          0.\n",
      "   1.        ]]\n",
      "after Prediction\n",
      "[53.14692605]\n"
     ]
    }
   ],
   "source": [
    "data = CustomData(\n",
    "gender='male',\n",
    "race_ethnicity=\"group A\",\n",
    "parental_level_of_education=\"associate's degree\",\n",
    "lunch='standard',\n",
    "test_preparation_course='none',\n",
    "writing_score=float(33),\n",
    "reading_score=float(86),\n",
    ")\n",
    "pred_df = data.get_data_as_dataframe()\n",
    "print(pred_df)\n",
    "print('Before Prediction')\n",
    "\n",
    "predict_pipeline = PredictPipeline()\n",
    "print('Mid Prediction')\n",
    "results = predict_pipeline.predict(pred_df)\n",
    "print('after Prediction')\n",
    "print(results)"
   ],
   "metadata": {
    "collapsed": false,
    "pycharm": {
     "name": "#%%\n"
    }
   }
  },
  {
   "cell_type": "code",
   "execution_count": null,
   "outputs": [],
   "source": [],
   "metadata": {
    "collapsed": false,
    "pycharm": {
     "name": "#%%\n"
    }
   }
  }
 ],
 "metadata": {
  "kernelspec": {
   "display_name": "Python 3",
   "language": "python",
   "name": "python3"
  },
  "language_info": {
   "codemirror_mode": {
    "name": "ipython",
    "version": 2
   },
   "file_extension": ".py",
   "mimetype": "text/x-python",
   "name": "python",
   "nbconvert_exporter": "python",
   "pygments_lexer": "ipython2",
   "version": "2.7.6"
  }
 },
 "nbformat": 4,
 "nbformat_minor": 0
}